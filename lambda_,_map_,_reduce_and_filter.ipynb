{
  "nbformat": 4,
  "nbformat_minor": 0,
  "metadata": {
    "colab": {
      "provenance": []
    },
    "kernelspec": {
      "name": "python3",
      "display_name": "Python 3"
    },
    "language_info": {
      "name": "python"
    }
  },
  "cells": [
    {
      "cell_type": "markdown",
      "source": [
        "# ***Lambda Function***"
      ],
      "metadata": {
        "id": "CZXDdxFhJ1Wp"
      }
    },
    {
      "cell_type": "code",
      "source": [
        "#Lambda function >> also known as anonymous function\n",
        "# syntax\n",
        "         # Lambda argument : expression >> no need of return statement and def keyword\n"
      ],
      "metadata": {
        "id": "XZs3_7HUKJ1O"
      },
      "execution_count": null,
      "outputs": []
    },
    {
      "cell_type": "code",
      "source": [
        "def square(x):\n",
        "  return x**2\n",
        "square(2)"
      ],
      "metadata": {
        "colab": {
          "base_uri": "https://localhost:8080/"
        },
        "id": "WRlL5WEvKpc_",
        "outputId": "f3d94917-3ec7-4567-c09e-9cff3c569c66"
      },
      "execution_count": null,
      "outputs": [
        {
          "output_type": "execute_result",
          "data": {
            "text/plain": [
              "4"
            ]
          },
          "metadata": {},
          "execution_count": 1
        }
      ]
    },
    {
      "cell_type": "code",
      "source": [
        "# if writting a 3 line code in one line we use a lambda function"
      ],
      "metadata": {
        "id": "N6YWJHPyKxOo"
      },
      "execution_count": null,
      "outputs": []
    },
    {
      "cell_type": "code",
      "source": [
        "lambda x : x**2"
      ],
      "metadata": {
        "colab": {
          "base_uri": "https://localhost:8080/"
        },
        "id": "kYGQpK-SLPbQ",
        "outputId": "c0eb5f64-cfa0-4f02-8c13-99bb306c2661"
      },
      "execution_count": null,
      "outputs": [
        {
          "output_type": "execute_result",
          "data": {
            "text/plain": [
              "<function __main__.<lambda>(x)>"
            ]
          },
          "metadata": {},
          "execution_count": 2
        }
      ]
    },
    {
      "cell_type": "code",
      "source": [
        "sq_lambda = lambda x : x**2"
      ],
      "metadata": {
        "id": "xK8dUx7ELSY0"
      },
      "execution_count": null,
      "outputs": []
    },
    {
      "cell_type": "code",
      "source": [
        "sq_lambda(2)"
      ],
      "metadata": {
        "colab": {
          "base_uri": "https://localhost:8080/"
        },
        "id": "Zbu8Za7OLXCl",
        "outputId": "2106a30c-8699-45a1-e878-4b9db007d8a6"
      },
      "execution_count": null,
      "outputs": [
        {
          "output_type": "execute_result",
          "data": {
            "text/plain": [
              "4"
            ]
          },
          "metadata": {},
          "execution_count": 4
        }
      ]
    },
    {
      "cell_type": "code",
      "source": [
        "sq_lambda = lambda x : x**2\n",
        "sq_lambda(3)"
      ],
      "metadata": {
        "colab": {
          "base_uri": "https://localhost:8080/"
        },
        "id": "q6CeXkuNLYds",
        "outputId": "459e0ea4-0844-42ad-999d-6e2d06093114"
      },
      "execution_count": null,
      "outputs": [
        {
          "output_type": "execute_result",
          "data": {
            "text/plain": [
              "9"
            ]
          },
          "metadata": {},
          "execution_count": 5
        }
      ]
    },
    {
      "cell_type": "code",
      "source": [
        "add = lambda a,b : a+b"
      ],
      "metadata": {
        "id": "OjN69e5WLeKP"
      },
      "execution_count": null,
      "outputs": []
    },
    {
      "cell_type": "code",
      "source": [
        "add(2,2)"
      ],
      "metadata": {
        "colab": {
          "base_uri": "https://localhost:8080/"
        },
        "id": "g3m82xIlMJGZ",
        "outputId": "55871981-547a-43a2-c653-83d024ab6b3f"
      },
      "execution_count": null,
      "outputs": [
        {
          "output_type": "execute_result",
          "data": {
            "text/plain": [
              "4"
            ]
          },
          "metadata": {},
          "execution_count": 7
        }
      ]
    },
    {
      "cell_type": "code",
      "source": [
        "add(3,5)"
      ],
      "metadata": {
        "colab": {
          "base_uri": "https://localhost:8080/"
        },
        "id": "hl0GbKW5MLCZ",
        "outputId": "2b9e8f14-764b-4aac-922a-90b33b19dd8f"
      },
      "execution_count": null,
      "outputs": [
        {
          "output_type": "execute_result",
          "data": {
            "text/plain": [
              "8"
            ]
          },
          "metadata": {},
          "execution_count": 8
        }
      ]
    },
    {
      "cell_type": "code",
      "source": [
        "is_even = lambda x : x%2 == 0\n",
        "is_even(4)"
      ],
      "metadata": {
        "colab": {
          "base_uri": "https://localhost:8080/"
        },
        "id": "D1dyDHaeMMe2",
        "outputId": "3258b22b-f1d1-456e-b4ae-df79c58f48cd"
      },
      "execution_count": null,
      "outputs": [
        {
          "output_type": "execute_result",
          "data": {
            "text/plain": [
              "True"
            ]
          },
          "metadata": {},
          "execution_count": 9
        }
      ]
    },
    {
      "cell_type": "code",
      "source": [
        "is_even = lambda x : x%2 == 0\n",
        "is_even(5)"
      ],
      "metadata": {
        "colab": {
          "base_uri": "https://localhost:8080/"
        },
        "id": "wkP4RsNWMZRt",
        "outputId": "7c5ce484-82d1-4985-ad60-a74cd641468a"
      },
      "execution_count": null,
      "outputs": [
        {
          "output_type": "execute_result",
          "data": {
            "text/plain": [
              "False"
            ]
          },
          "metadata": {},
          "execution_count": 10
        }
      ]
    },
    {
      "cell_type": "code",
      "source": [
        "x = [\"python\" , \"data scienece\" , \"lokesh\"]\n",
        "x"
      ],
      "metadata": {
        "colab": {
          "base_uri": "https://localhost:8080/"
        },
        "id": "msLlp5v1MfkN",
        "outputId": "2d4eeeae-a2f9-4b26-ebdf-b970769d89f7"
      },
      "execution_count": null,
      "outputs": [
        {
          "output_type": "execute_result",
          "data": {
            "text/plain": [
              "['python', 'data scienece', 'lokesh']"
            ]
          },
          "metadata": {},
          "execution_count": 2
        }
      ]
    },
    {
      "cell_type": "code",
      "source": [
        "sorted(x)  # by default sorting based on alphabetical order"
      ],
      "metadata": {
        "colab": {
          "base_uri": "https://localhost:8080/"
        },
        "id": "o0NCRnlYMqil",
        "outputId": "528ce022-c76b-4a9b-be7b-514b08e1a6d2"
      },
      "execution_count": null,
      "outputs": [
        {
          "output_type": "execute_result",
          "data": {
            "text/plain": [
              "['data scienece', 'lokesh', 'python']"
            ]
          },
          "metadata": {},
          "execution_count": 12
        }
      ]
    },
    {
      "cell_type": "code",
      "source": [
        "# sort the list based on length of elemnet of list\n",
        "\n",
        "le = lambda x : len(x)\n",
        "le(\"lokesh\")"
      ],
      "metadata": {
        "colab": {
          "base_uri": "https://localhost:8080/"
        },
        "id": "oZzXF9akMsjf",
        "outputId": "e55c5e35-1a17-4cd3-eb76-55a4d77cf1f6"
      },
      "execution_count": null,
      "outputs": [
        {
          "output_type": "execute_result",
          "data": {
            "text/plain": [
              "6"
            ]
          },
          "metadata": {},
          "execution_count": 1
        }
      ]
    },
    {
      "cell_type": "code",
      "source": [
        "sorted(x, key = lambda x : len(x))"
      ],
      "metadata": {
        "colab": {
          "base_uri": "https://localhost:8080/"
        },
        "id": "TvD_fJ0mOTn7",
        "outputId": "cfa2ad63-3cde-4a51-ccb0-aabe8aad3bcb"
      },
      "execution_count": null,
      "outputs": [
        {
          "output_type": "execute_result",
          "data": {
            "text/plain": [
              "['python', 'lokesh', 'data scienece']"
            ]
          },
          "metadata": {},
          "execution_count": 3
        }
      ]
    },
    {
      "cell_type": "code",
      "source": [
        "fib = lambda n: n if n<=1 else fib(n-1) + fib(n-2)\n",
        "[fib(i)for i in range(10)]"
      ],
      "metadata": {
        "colab": {
          "base_uri": "https://localhost:8080/"
        },
        "id": "bMYyPetRO4Od",
        "outputId": "49fd1e86-ba94-4871-85d4-88d20fb7211b"
      },
      "execution_count": null,
      "outputs": [
        {
          "output_type": "execute_result",
          "data": {
            "text/plain": [
              "[0, 1, 1, 2, 3, 5, 8, 13, 21, 34]"
            ]
          },
          "metadata": {},
          "execution_count": 6
        }
      ]
    },
    {
      "cell_type": "code",
      "source": [
        "# factorial of 5 denoted by 5 ! >> 5*4*3*2*1\n",
        "# 0! always be a 1"
      ],
      "metadata": {
        "id": "DWPjFljRQQ0P"
      },
      "execution_count": null,
      "outputs": []
    },
    {
      "cell_type": "code",
      "source": [
        "def fact_num(n):\n",
        "  if n == 0:\n",
        "    return 1\n",
        "  else:\n",
        "    return n*fact_num(n-1)\n",
        "fact_num(5)"
      ],
      "metadata": {
        "colab": {
          "base_uri": "https://localhost:8080/"
        },
        "id": "D0vafxJGSBgt",
        "outputId": "70f3eb9d-8918-4654-d687-7128a479ce27"
      },
      "execution_count": null,
      "outputs": [
        {
          "output_type": "execute_result",
          "data": {
            "text/plain": [
              "120"
            ]
          },
          "metadata": {},
          "execution_count": 8
        }
      ]
    },
    {
      "cell_type": "code",
      "source": [
        "# can i write same using lambda function >> Yes"
      ],
      "metadata": {
        "id": "oZhIk5WZSMwr"
      },
      "execution_count": null,
      "outputs": []
    },
    {
      "cell_type": "code",
      "source": [
        "fac_num = lambda n: 1 if n == 0 else n*fac_num(n-1)\n",
        "fac_num(5)"
      ],
      "metadata": {
        "colab": {
          "base_uri": "https://localhost:8080/"
        },
        "id": "pYZ9z1SdTeND",
        "outputId": "eacab99d-1a86-49f6-b0bf-34c59b0ef67e"
      },
      "execution_count": null,
      "outputs": [
        {
          "output_type": "execute_result",
          "data": {
            "text/plain": [
              "120"
            ]
          },
          "metadata": {},
          "execution_count": 9
        }
      ]
    },
    {
      "cell_type": "markdown",
      "source": [
        "# ***Map Function***"
      ],
      "metadata": {
        "id": "MnWvFuX5XHQz"
      }
    },
    {
      "cell_type": "code",
      "source": [
        "# map function >> executes a specified function for each if item of an iterable\n",
        "#syntax\n",
        "       # map(func, *iterables) >> itearble which can be iterator\n",
        "# so it take itearble as a input and custom func as a input and it wil apply this func to this iterable\n"
      ],
      "metadata": {
        "id": "MhcnkMxVWzZB"
      },
      "execution_count": null,
      "outputs": []
    },
    {
      "cell_type": "code",
      "source": [
        "help(map)"
      ],
      "metadata": {
        "colab": {
          "base_uri": "https://localhost:8080/"
        },
        "id": "hIBOmoJfXz-4",
        "outputId": "d7c30271-02cf-40cb-8cf6-43d6ce574054"
      },
      "execution_count": null,
      "outputs": [
        {
          "output_type": "stream",
          "name": "stdout",
          "text": [
            "Help on class map in module builtins:\n",
            "\n",
            "class map(object)\n",
            " |  map(func, *iterables) --> map object\n",
            " |  \n",
            " |  Make an iterator that computes the function using arguments from\n",
            " |  each of the iterables.  Stops when the shortest iterable is exhausted.\n",
            " |  \n",
            " |  Methods defined here:\n",
            " |  \n",
            " |  __getattribute__(self, name, /)\n",
            " |      Return getattr(self, name).\n",
            " |  \n",
            " |  __iter__(self, /)\n",
            " |      Implement iter(self).\n",
            " |  \n",
            " |  __next__(self, /)\n",
            " |      Implement next(self).\n",
            " |  \n",
            " |  __reduce__(...)\n",
            " |      Return state information for pickling.\n",
            " |  \n",
            " |  ----------------------------------------------------------------------\n",
            " |  Static methods defined here:\n",
            " |  \n",
            " |  __new__(*args, **kwargs)\n",
            " |      Create and return a new object.  See help(type) for accurate signature.\n",
            "\n"
          ]
        }
      ]
    },
    {
      "cell_type": "code",
      "source": [
        "l = [1,2,3,4,5]\n",
        "def square(l):\n",
        "  sq = []\n",
        "  for i in l:\n",
        "      sq.append(i**2)\n",
        "  return sq"
      ],
      "metadata": {
        "id": "s7s-cwbmX1Lh"
      },
      "execution_count": null,
      "outputs": []
    },
    {
      "cell_type": "code",
      "source": [
        "square(l)"
      ],
      "metadata": {
        "colab": {
          "base_uri": "https://localhost:8080/"
        },
        "id": "aD0jHZ-LfBCd",
        "outputId": "2d0a1d4a-6911-42bc-b976-54d4f41f9b94"
      },
      "execution_count": null,
      "outputs": [
        {
          "output_type": "execute_result",
          "data": {
            "text/plain": [
              "[1, 4, 9, 16, 25]"
            ]
          },
          "metadata": {},
          "execution_count": 7
        }
      ]
    },
    {
      "cell_type": "code",
      "source": [
        "# using a map\n",
        "\n",
        "def sq(x):\n",
        "  return x**2"
      ],
      "metadata": {
        "id": "P8XXiz0jfL0e"
      },
      "execution_count": null,
      "outputs": []
    },
    {
      "cell_type": "code",
      "source": [
        "l"
      ],
      "metadata": {
        "colab": {
          "base_uri": "https://localhost:8080/"
        },
        "id": "vcWsB_GtfpT4",
        "outputId": "a3024260-25a8-4a9a-b483-210ddde1f5c2"
      },
      "execution_count": null,
      "outputs": [
        {
          "output_type": "execute_result",
          "data": {
            "text/plain": [
              "[1, 2, 3, 4, 5]"
            ]
          },
          "metadata": {},
          "execution_count": 9
        }
      ]
    },
    {
      "cell_type": "code",
      "source": [
        "#map(func, iterable)\n",
        "\n",
        "map(sq, l)"
      ],
      "metadata": {
        "colab": {
          "base_uri": "https://localhost:8080/"
        },
        "id": "7yvNeI3ifpvk",
        "outputId": "b8bfb3b8-9345-4ecd-f4a5-45bcb12fd9fd"
      },
      "execution_count": null,
      "outputs": [
        {
          "output_type": "execute_result",
          "data": {
            "text/plain": [
              "<map at 0x7c941a235f00>"
            ]
          },
          "metadata": {},
          "execution_count": 10
        }
      ]
    },
    {
      "cell_type": "code",
      "source": [
        "list(map(sq, l))"
      ],
      "metadata": {
        "colab": {
          "base_uri": "https://localhost:8080/"
        },
        "id": "iNxi153Yf6Kw",
        "outputId": "4ca49900-5872-4792-f997-0687bae7ce8b"
      },
      "execution_count": null,
      "outputs": [
        {
          "output_type": "execute_result",
          "data": {
            "text/plain": [
              "[1, 4, 9, 16, 25]"
            ]
          },
          "metadata": {},
          "execution_count": 11
        }
      ]
    },
    {
      "cell_type": "code",
      "source": [
        "def add(x):\n",
        "  return x+10\n",
        "\n",
        "list(map(add, l))"
      ],
      "metadata": {
        "colab": {
          "base_uri": "https://localhost:8080/"
        },
        "id": "FtlVSs8Af_Bm",
        "outputId": "0fd65847-b50b-40b3-8832-b619020695f0"
      },
      "execution_count": null,
      "outputs": [
        {
          "output_type": "execute_result",
          "data": {
            "text/plain": [
              "[11, 12, 13, 14, 15]"
            ]
          },
          "metadata": {},
          "execution_count": 12
        }
      ]
    },
    {
      "cell_type": "code",
      "source": [
        "# using lambda with map\n",
        "\n",
        "list(map(lambda x: x**2, l))"
      ],
      "metadata": {
        "colab": {
          "base_uri": "https://localhost:8080/"
        },
        "id": "58vRmhdcgHFl",
        "outputId": "a98a3be0-be5f-4665-8596-0c9170e941df"
      },
      "execution_count": null,
      "outputs": [
        {
          "output_type": "execute_result",
          "data": {
            "text/plain": [
              "[1, 4, 9, 16, 25]"
            ]
          },
          "metadata": {},
          "execution_count": 13
        }
      ]
    },
    {
      "cell_type": "code",
      "source": [
        "list(map(lambda x: x+10, l))"
      ],
      "metadata": {
        "colab": {
          "base_uri": "https://localhost:8080/"
        },
        "id": "PuqqAdZ0gZMQ",
        "outputId": "2fb83d43-cf7b-42cd-a007-0aa2b5e05568"
      },
      "execution_count": null,
      "outputs": [
        {
          "output_type": "execute_result",
          "data": {
            "text/plain": [
              "[11, 12, 13, 14, 15]"
            ]
          },
          "metadata": {},
          "execution_count": 14
        }
      ]
    },
    {
      "cell_type": "code",
      "source": [
        "l = [\"1\" , \"2\" , \"3\"]\n",
        "list(map(lambda x : int(x) , l))"
      ],
      "metadata": {
        "colab": {
          "base_uri": "https://localhost:8080/"
        },
        "id": "x1O9ZRgMgd2i",
        "outputId": "dd60eed4-fe1a-42af-f121-31cac4714f14"
      },
      "execution_count": null,
      "outputs": [
        {
          "output_type": "execute_result",
          "data": {
            "text/plain": [
              "[1, 2, 3]"
            ]
          },
          "metadata": {},
          "execution_count": 15
        }
      ]
    },
    {
      "cell_type": "code",
      "source": [
        "type(l)"
      ],
      "metadata": {
        "colab": {
          "base_uri": "https://localhost:8080/"
        },
        "id": "iBlGoz7Lgpp6",
        "outputId": "ff0bf81f-9287-437a-d544-a4bf4f13426b"
      },
      "execution_count": null,
      "outputs": [
        {
          "output_type": "execute_result",
          "data": {
            "text/plain": [
              "list"
            ]
          },
          "metadata": {},
          "execution_count": 16
        }
      ]
    },
    {
      "cell_type": "code",
      "source": [
        "l1 = [100,200,300,400]\n",
        "l2 = [1,2,3,4]\n",
        "list(map(lambda x,y : x+y , l1,l2))"
      ],
      "metadata": {
        "colab": {
          "base_uri": "https://localhost:8080/"
        },
        "id": "9IDiR0hogrYg",
        "outputId": "8f0e60e4-8cf2-4bf4-9a20-69592f1d2938"
      },
      "execution_count": null,
      "outputs": [
        {
          "output_type": "execute_result",
          "data": {
            "text/plain": [
              "[101, 202, 303, 404]"
            ]
          },
          "metadata": {},
          "execution_count": 17
        }
      ]
    },
    {
      "cell_type": "code",
      "source": [
        "s = \"pwskills\"\n",
        "list(map(lambda x : x.upper(), s))"
      ],
      "metadata": {
        "colab": {
          "base_uri": "https://localhost:8080/"
        },
        "id": "mrd6KKFGg8f8",
        "outputId": "b32459ee-8ef4-4fd7-8a60-2cc5c7ad4f1a"
      },
      "execution_count": null,
      "outputs": [
        {
          "output_type": "execute_result",
          "data": {
            "text/plain": [
              "['P', 'W', 'S', 'K', 'I', 'L', 'L', 'S']"
            ]
          },
          "metadata": {},
          "execution_count": 18
        }
      ]
    },
    {
      "cell_type": "code",
      "source": [
        "words = [\"python\" , \"lokesh\"]\n",
        "list(map(lambda x : x.upper(), words))"
      ],
      "metadata": {
        "colab": {
          "base_uri": "https://localhost:8080/"
        },
        "id": "2nZkVpiVhIKf",
        "outputId": "075c4f3b-1fac-4031-d050-62bf93e5ef86"
      },
      "execution_count": null,
      "outputs": [
        {
          "output_type": "execute_result",
          "data": {
            "text/plain": [
              "['PYTHON', 'LOKESH']"
            ]
          },
          "metadata": {},
          "execution_count": 19
        }
      ]
    },
    {
      "cell_type": "code",
      "source": [
        "words = [\"python\" , \"lokesh\"]\n",
        "list(map(str.capitalize, words))"
      ],
      "metadata": {
        "colab": {
          "base_uri": "https://localhost:8080/"
        },
        "id": "bvykIPWthVx0",
        "outputId": "6351a69c-024f-45a1-fc73-4a8311e39652"
      },
      "execution_count": null,
      "outputs": [
        {
          "output_type": "execute_result",
          "data": {
            "text/plain": [
              "['Python', 'Lokesh']"
            ]
          },
          "metadata": {},
          "execution_count": 20
        }
      ]
    },
    {
      "cell_type": "code",
      "source": [
        "grades = [\"A\" , \"B\" , \"C\" , \"D\"]\n",
        "list(map(lambda grade : 4 if grade == \"A\" else (3 if grade == \"B\" else 2), grades))"
      ],
      "metadata": {
        "colab": {
          "base_uri": "https://localhost:8080/"
        },
        "id": "R8GGWtGkhd-z",
        "outputId": "d8fea2f8-cbf0-4163-f342-fc613a226aba"
      },
      "execution_count": null,
      "outputs": [
        {
          "output_type": "execute_result",
          "data": {
            "text/plain": [
              "[4, 3, 2, 2]"
            ]
          },
          "metadata": {},
          "execution_count": 22
        }
      ]
    },
    {
      "cell_type": "markdown",
      "source": [
        "# ***Reduce Function***"
      ],
      "metadata": {
        "id": "bCnlItl1h_D1"
      }
    },
    {
      "cell_type": "code",
      "source": [
        "# reduce means foldind/reduction\n",
        "# it is not a python keyword you have to import this > functools\n",
        "# syntax\n",
        "#         reduce(func, iterable)\n",
        "# reduce will always take 2 argument"
      ],
      "metadata": {
        "id": "UMhHB9FtiDE5"
      },
      "execution_count": null,
      "outputs": []
    },
    {
      "cell_type": "code",
      "source": [
        "from functools import reduce"
      ],
      "metadata": {
        "id": "B6SuvkPPiWnl"
      },
      "execution_count": null,
      "outputs": []
    },
    {
      "cell_type": "code",
      "source": [
        "l = [2,1,3,4,4,5,8,7,6]\n",
        "reduce(lambda x, y:x+y, l)"
      ],
      "metadata": {
        "colab": {
          "base_uri": "https://localhost:8080/"
        },
        "id": "qWsMuIV7icgf",
        "outputId": "8ccd2eca-8bbb-4cf7-ea49-0554aae489dc"
      },
      "execution_count": null,
      "outputs": [
        {
          "output_type": "execute_result",
          "data": {
            "text/plain": [
              "40"
            ]
          },
          "metadata": {},
          "execution_count": 24
        }
      ]
    },
    {
      "cell_type": "code",
      "source": [
        "l = [2,1,3,4,4,5,8,7,6]\n",
        "reduce(lambda x, y, z:x+y+z, l)"
      ],
      "metadata": {
        "colab": {
          "base_uri": "https://localhost:8080/",
          "height": 158
        },
        "id": "t0eoU1ufi2C8",
        "outputId": "78c6922e-e58f-4fb9-ff66-462a05819edd"
      },
      "execution_count": null,
      "outputs": [
        {
          "output_type": "error",
          "ename": "TypeError",
          "evalue": "<lambda>() missing 1 required positional argument: 'z'",
          "traceback": [
            "\u001b[0;31m---------------------------------------------------------------------------\u001b[0m",
            "\u001b[0;31mTypeError\u001b[0m                                 Traceback (most recent call last)",
            "\u001b[0;32m<ipython-input-25-438ccfb0a20f>\u001b[0m in \u001b[0;36m<cell line: 0>\u001b[0;34m()\u001b[0m\n\u001b[1;32m      1\u001b[0m \u001b[0ml\u001b[0m \u001b[0;34m=\u001b[0m \u001b[0;34m[\u001b[0m\u001b[0;36m2\u001b[0m\u001b[0;34m,\u001b[0m\u001b[0;36m1\u001b[0m\u001b[0;34m,\u001b[0m\u001b[0;36m3\u001b[0m\u001b[0;34m,\u001b[0m\u001b[0;36m4\u001b[0m\u001b[0;34m,\u001b[0m\u001b[0;36m4\u001b[0m\u001b[0;34m,\u001b[0m\u001b[0;36m5\u001b[0m\u001b[0;34m,\u001b[0m\u001b[0;36m8\u001b[0m\u001b[0;34m,\u001b[0m\u001b[0;36m7\u001b[0m\u001b[0;34m,\u001b[0m\u001b[0;36m6\u001b[0m\u001b[0;34m]\u001b[0m\u001b[0;34m\u001b[0m\u001b[0;34m\u001b[0m\u001b[0m\n\u001b[0;32m----> 2\u001b[0;31m \u001b[0mreduce\u001b[0m\u001b[0;34m(\u001b[0m\u001b[0;32mlambda\u001b[0m \u001b[0mx\u001b[0m\u001b[0;34m,\u001b[0m \u001b[0my\u001b[0m\u001b[0;34m,\u001b[0m \u001b[0mz\u001b[0m\u001b[0;34m:\u001b[0m\u001b[0mx\u001b[0m\u001b[0;34m+\u001b[0m\u001b[0my\u001b[0m\u001b[0;34m+\u001b[0m\u001b[0mz\u001b[0m\u001b[0;34m,\u001b[0m \u001b[0ml\u001b[0m\u001b[0;34m)\u001b[0m\u001b[0;34m\u001b[0m\u001b[0;34m\u001b[0m\u001b[0m\n\u001b[0m",
            "\u001b[0;31mTypeError\u001b[0m: <lambda>() missing 1 required positional argument: 'z'"
          ]
        }
      ]
    },
    {
      "cell_type": "code",
      "source": [
        "l = [2,1,3,4,4,5,8,7,6]\n",
        "reduce(lambda x, y:x+y, [1])"
      ],
      "metadata": {
        "colab": {
          "base_uri": "https://localhost:8080/"
        },
        "id": "hdbVnc5BkNch",
        "outputId": "2cdd2ca4-f829-4f10-fcf5-dfe13a091df6"
      },
      "execution_count": null,
      "outputs": [
        {
          "output_type": "execute_result",
          "data": {
            "text/plain": [
              "1"
            ]
          },
          "metadata": {},
          "execution_count": 27
        }
      ]
    },
    {
      "cell_type": "code",
      "source": [
        "reduce(lambda x, y:x*y , l)"
      ],
      "metadata": {
        "colab": {
          "base_uri": "https://localhost:8080/"
        },
        "id": "tkhvc-0ZlLAI",
        "outputId": "bcc2d14f-286d-48ca-aa3a-29c19031dc2a"
      },
      "execution_count": null,
      "outputs": [
        {
          "output_type": "execute_result",
          "data": {
            "text/plain": [
              "161280"
            ]
          },
          "metadata": {},
          "execution_count": 28
        }
      ]
    },
    {
      "cell_type": "code",
      "source": [
        "words = [\"python\" , \"lokesh\"]\n",
        "reduce(lambda x, y : x+ \" \" +y , words)"
      ],
      "metadata": {
        "colab": {
          "base_uri": "https://localhost:8080/",
          "height": 36
        },
        "id": "0aGvLruVlTqd",
        "outputId": "d3eae890-7371-498e-dc04-d8ec0260f6fa"
      },
      "execution_count": null,
      "outputs": [
        {
          "output_type": "execute_result",
          "data": {
            "text/plain": [
              "'python lokesh'"
            ],
            "application/vnd.google.colaboratory.intrinsic+json": {
              "type": "string"
            }
          },
          "metadata": {},
          "execution_count": 31
        }
      ]
    },
    {
      "cell_type": "code",
      "source": [
        "numbers = [1,2,3,4,5,100,125,500]\n",
        "reduce(lambda x, y : x if x>y else y , numbers)"
      ],
      "metadata": {
        "colab": {
          "base_uri": "https://localhost:8080/"
        },
        "id": "2Q_XGOgElY7d",
        "outputId": "2c1f5495-49a2-4c89-aa8d-fb464faf4689"
      },
      "execution_count": null,
      "outputs": [
        {
          "output_type": "execute_result",
          "data": {
            "text/plain": [
              "500"
            ]
          },
          "metadata": {},
          "execution_count": 32
        }
      ]
    },
    {
      "cell_type": "code",
      "source": [
        "def fact(n):\n",
        "  return reduce(lambda x,y: x*y, range(1, n+1))"
      ],
      "metadata": {
        "id": "pVSopOwKlseF"
      },
      "execution_count": null,
      "outputs": []
    },
    {
      "cell_type": "code",
      "source": [
        "fact(5)"
      ],
      "metadata": {
        "colab": {
          "base_uri": "https://localhost:8080/"
        },
        "id": "sRWZ6Gd_mkcY",
        "outputId": "021d31dc-2c66-4176-d74a-e66ba009d916"
      },
      "execution_count": null,
      "outputs": [
        {
          "output_type": "execute_result",
          "data": {
            "text/plain": [
              "120"
            ]
          },
          "metadata": {},
          "execution_count": 34
        }
      ]
    },
    {
      "cell_type": "markdown",
      "source": [
        "# ***Filter Function***"
      ],
      "metadata": {
        "id": "ud0SBsCwmtXs"
      }
    },
    {
      "cell_type": "code",
      "source": [
        "# it is used to filter element from an iterable based on some condition\n",
        "#syntx\n",
        "#       filter(function, iterable)"
      ],
      "metadata": {
        "id": "CuVysC5nmw54"
      },
      "execution_count": null,
      "outputs": []
    },
    {
      "cell_type": "code",
      "source": [
        "l"
      ],
      "metadata": {
        "colab": {
          "base_uri": "https://localhost:8080/"
        },
        "id": "_BRRimTfm8j1",
        "outputId": "40a3bb03-7633-4e11-c674-f8eaf7b5624d"
      },
      "execution_count": null,
      "outputs": [
        {
          "output_type": "execute_result",
          "data": {
            "text/plain": [
              "[2, 1, 3, 4, 4, 5, 8, 7, 6]"
            ]
          },
          "metadata": {},
          "execution_count": 35
        }
      ]
    },
    {
      "cell_type": "code",
      "source": [
        "list(filter(lambda x : x%2 == 0 , l))"
      ],
      "metadata": {
        "colab": {
          "base_uri": "https://localhost:8080/"
        },
        "id": "Mc1P78cZm8dy",
        "outputId": "0ed48627-efdb-4815-c8d0-29d69676f39e"
      },
      "execution_count": null,
      "outputs": [
        {
          "output_type": "execute_result",
          "data": {
            "text/plain": [
              "[2, 4, 4, 8, 6]"
            ]
          },
          "metadata": {},
          "execution_count": 36
        }
      ]
    },
    {
      "cell_type": "code",
      "source": [
        "list(filter(lambda x : x%2 != 0 , l))"
      ],
      "metadata": {
        "colab": {
          "base_uri": "https://localhost:8080/"
        },
        "id": "PeAGf7DFnIeS",
        "outputId": "1fb2f231-99fa-4b18-a5a7-b6010b9b8047"
      },
      "execution_count": null,
      "outputs": [
        {
          "output_type": "execute_result",
          "data": {
            "text/plain": [
              "[1, 3, 5, 7]"
            ]
          },
          "metadata": {},
          "execution_count": 37
        }
      ]
    },
    {
      "cell_type": "code",
      "source": [
        "l1 = [-1 , -2 , -6 , 5 , 8 ]\n",
        "list(filter(lambda x : x<0 , l1))"
      ],
      "metadata": {
        "colab": {
          "base_uri": "https://localhost:8080/"
        },
        "id": "tY5ixhCfnODt",
        "outputId": "57e243c8-4efb-4ce9-8cde-7007a8e09dd7"
      },
      "execution_count": null,
      "outputs": [
        {
          "output_type": "execute_result",
          "data": {
            "text/plain": [
              "[-1, -2, -6]"
            ]
          },
          "metadata": {},
          "execution_count": 38
        }
      ]
    },
    {
      "cell_type": "code",
      "source": [
        "list(filter(lambda x : x>0 , l1))"
      ],
      "metadata": {
        "colab": {
          "base_uri": "https://localhost:8080/"
        },
        "id": "8lBF7o0BnaYN",
        "outputId": "7d8fc896-f230-4630-cef7-feb760ddca5b"
      },
      "execution_count": null,
      "outputs": [
        {
          "output_type": "execute_result",
          "data": {
            "text/plain": [
              "[5, 8]"
            ]
          },
          "metadata": {},
          "execution_count": 39
        }
      ]
    },
    {
      "cell_type": "code",
      "source": [
        "s = [\"lokesh\" , \"pwskills\" , \"data science\" , \"what\"]\n",
        "list(filter(lambda x : len(x)>4 , s))"
      ],
      "metadata": {
        "colab": {
          "base_uri": "https://localhost:8080/"
        },
        "id": "TIvLAhL1ndmf",
        "outputId": "f0b6775f-e409-4963-d593-06be3378a8aa"
      },
      "execution_count": null,
      "outputs": [
        {
          "output_type": "execute_result",
          "data": {
            "text/plain": [
              "['lokesh', 'pwskills', 'data science']"
            ]
          },
          "metadata": {},
          "execution_count": 41
        }
      ]
    },
    {
      "cell_type": "code",
      "source": [
        "def check_even(num):\n",
        "  if num%2 == 0:\n",
        "     return True\n",
        "  return False"
      ],
      "metadata": {
        "id": "DiRjtJ82n2vB"
      },
      "execution_count": null,
      "outputs": []
    },
    {
      "cell_type": "code",
      "source": [
        "num = [1,2,3,4,5,6,7,8,9]\n",
        "list(filter(check_even, num))"
      ],
      "metadata": {
        "colab": {
          "base_uri": "https://localhost:8080/"
        },
        "id": "CWyJPT1UoITr",
        "outputId": "29c966bb-5b5e-4f22-ad41-982069364721"
      },
      "execution_count": null,
      "outputs": [
        {
          "output_type": "execute_result",
          "data": {
            "text/plain": [
              "[2, 4, 6, 8]"
            ]
          },
          "metadata": {},
          "execution_count": 48
        }
      ]
    }
  ]
}